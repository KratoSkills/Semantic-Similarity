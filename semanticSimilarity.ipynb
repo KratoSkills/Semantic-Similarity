{
 "cells": [
  {
   "cell_type": "code",
   "execution_count": 1,
   "metadata": {},
   "outputs": [
    {
     "name": "stderr",
     "output_type": "stream",
     "text": [
      "c:\\Users\\being\\.conda\\envs\\ML\\lib\\site-packages\\tqdm\\auto.py:22: TqdmWarning: IProgress not found. Please update jupyter and ipywidgets. See https://ipywidgets.readthedocs.io/en/stable/user_install.html\n",
      "  from .autonotebook import tqdm as notebook_tqdm\n"
     ]
    }
   ],
   "source": [
    "from sentence_transformers import SentenceTransformer, util\n",
    "import pandas as pd\n",
    "import matplotlib.pyplot as plt"
   ]
  },
  {
   "cell_type": "code",
   "execution_count": 2,
   "metadata": {},
   "outputs": [],
   "source": [
    "model = SentenceTransformer('stsb-mpnet-base-v2')"
   ]
  },
  {
   "cell_type": "code",
   "execution_count": 3,
   "metadata": {},
   "outputs": [
    {
     "name": "stdout",
     "output_type": "stream",
     "text": [
      "(9000, 3)\n"
     ]
    }
   ],
   "source": [
    "testcases = pd.read_excel('.\\datasets\\evaluation.xlsx')\n",
    "print(testcases.shape)"
   ]
  },
  {
   "cell_type": "code",
   "execution_count": 4,
   "metadata": {},
   "outputs": [
    {
     "name": "stdout",
     "output_type": "stream",
     "text": [
      "9000 9000 9000\n"
     ]
    }
   ],
   "source": [
    "text = testcases['text'].tolist()\n",
    "reason = testcases['reason'].tolist()\n",
    "label = testcases['label'].tolist()\n",
    "print(len(text), len(reason), len(label))"
   ]
  },
  {
   "cell_type": "code",
   "execution_count": 5,
   "metadata": {},
   "outputs": [
    {
     "name": "stderr",
     "output_type": "stream",
     "text": [
      "Batches: 100%|██████████| 282/282 [04:40<00:00,  1.00it/s]\n"
     ]
    }
   ],
   "source": [
    "# encode list of texts to get their embeddings\n",
    "text_embeddings = model.encode(text, show_progress_bar=True, convert_to_tensor=True)"
   ]
  },
  {
   "cell_type": "code",
   "execution_count": 6,
   "metadata": {},
   "outputs": [
    {
     "name": "stderr",
     "output_type": "stream",
     "text": [
      "Batches: 100%|██████████| 282/282 [01:13<00:00,  3.84it/s]\n"
     ]
    }
   ],
   "source": [
    "# encode list of reasons to get their embeddings\n",
    "reason_embeddings = model.encode(reason, show_progress_bar=True, convert_to_tensor=True)"
   ]
  },
  {
   "cell_type": "code",
   "execution_count": 7,
   "metadata": {},
   "outputs": [],
   "source": [
    "# compute similarity scores of two embeddings lists\n",
    "cosine_scores = util.pytorch_cos_sim(text_embeddings, reason_embeddings)"
   ]
  },
  {
   "cell_type": "code",
   "execution_count": 8,
   "metadata": {},
   "outputs": [
    {
     "data": {
      "text/plain": [
       "'# Output the pairs with their score\\nfor i in range(len(text)):\\n    print(\"{} \\t {} \\t Score: {:.4f}\".format(text[i], reason[i], cosine_scores[i][i]))'"
      ]
     },
     "execution_count": 8,
     "metadata": {},
     "output_type": "execute_result"
    }
   ],
   "source": [
    "'''# Output the pairs with their score\n",
    "for i in range(len(text)):\n",
    "    print(\"{} \\t {} \\t Score: {:.4f}\".format(text[i], reason[i], cosine_scores[i][i]))'''"
   ]
  },
  {
   "cell_type": "code",
   "execution_count": 9,
   "metadata": {},
   "outputs": [],
   "source": [
    "# convert scores to labels\n",
    "pred = []\n",
    "for i in range(len(text)):\n",
    "    if cosine_scores[i][i] > 0.5:\n",
    "        pred.append(1)\n",
    "    else:\n",
    "        pred.append(0)"
   ]
  },
  {
   "cell_type": "code",
   "execution_count": 10,
   "metadata": {},
   "outputs": [
    {
     "name": "stdout",
     "output_type": "stream",
     "text": [
      "Accuracy:  0.7528888888888889\n"
     ]
    }
   ],
   "source": [
    "# compute accuracy\n",
    "correct = 0\n",
    "for i in range(len(text)):\n",
    "    if pred[i] == label[i]:\n",
    "        correct += 1\n",
    "print('Accuracy: ', correct/len(text))"
   ]
  },
  {
   "cell_type": "code",
   "execution_count": 11,
   "metadata": {},
   "outputs": [
    {
     "name": "stdout",
     "output_type": "stream",
     "text": [
      "Confusion matrix:  2294 4482 1517 707\n"
     ]
    }
   ],
   "source": [
    "# compute confusion matrix\n",
    "tp = 0\n",
    "tn = 0\n",
    "fp = 0\n",
    "fn = 0\n",
    "for i in range(len(text)):\n",
    "    if pred[i] == 1 and label[i] == 1:\n",
    "        tp += 1\n",
    "    elif pred[i] == 0 and label[i] == 0:\n",
    "        tn += 1\n",
    "    elif pred[i] == 1 and label[i] == 0:\n",
    "        fp += 1\n",
    "    elif pred[i] == 0 and label[i] == 1:\n",
    "        fn += 1\n",
    "print('Confusion matrix: ', tp, tn, fp, fn)"
   ]
  },
  {
   "cell_type": "code",
   "execution_count": 12,
   "metadata": {},
   "outputs": [
    {
     "name": "stdout",
     "output_type": "stream",
     "text": [
      "Precision:  0.6019417475728155\n"
     ]
    }
   ],
   "source": [
    "# compute precision\n",
    "precision = tp/(tp+fp)\n",
    "print('Precision: ', tp/(tp+fp))"
   ]
  },
  {
   "cell_type": "code",
   "execution_count": 13,
   "metadata": {},
   "outputs": [
    {
     "name": "stdout",
     "output_type": "stream",
     "text": [
      "Recall:  0.7644118627124292\n"
     ]
    }
   ],
   "source": [
    "# compute recall\n",
    "recall = tp/(tp+fn)\n",
    "print('Recall: ', recall)"
   ]
  },
  {
   "cell_type": "code",
   "execution_count": 14,
   "metadata": {},
   "outputs": [
    {
     "name": "stdout",
     "output_type": "stream",
     "text": [
      "F1 score:  0.6735173223722841\n"
     ]
    }
   ],
   "source": [
    "# compute f1 score\n",
    "f1 = 2 * precision * recall / (precision + recall)\n",
    "print('F1 score: ', f1)"
   ]
  },
  {
   "cell_type": "code",
   "execution_count": 15,
   "metadata": {},
   "outputs": [
    {
     "name": "stdout",
     "output_type": "stream",
     "text": [
      "MCC:  0.48807621903700127\n"
     ]
    }
   ],
   "source": [
    "# compute MCC\n",
    "from sklearn.metrics import matthews_corrcoef\n",
    "mcc = matthews_corrcoef(label, pred)\n",
    "print('MCC: ', mcc)"
   ]
  },
  {
   "cell_type": "code",
   "execution_count": 16,
   "metadata": {},
   "outputs": [
    {
     "name": "stdout",
     "output_type": "stream",
     "text": [
      "Brier loss:  0.24711111111111111\n"
     ]
    }
   ],
   "source": [
    "# brier loss / score\n",
    "from sklearn.metrics import brier_score_loss\n",
    "brier = brier_score_loss(label, pred)\n",
    "print('Brier loss: ', brier)"
   ]
  },
  {
   "cell_type": "code",
   "execution_count": 17,
   "metadata": {},
   "outputs": [
    {
     "name": "stdout",
     "output_type": "stream",
     "text": [
      "Brier skill score:  0.7528888888888889\n"
     ]
    }
   ],
   "source": [
    "# brier skill score\n",
    "bss = 1 - brier_score_loss(label, pred)\n",
    "print('Brier skill score: ', bss)"
   ]
  },
  {
   "cell_type": "code",
   "execution_count": 18,
   "metadata": {},
   "outputs": [
    {
     "name": "stdout",
     "output_type": "stream",
     "text": [
      "BCE loss:  8.535050187953662\n"
     ]
    }
   ],
   "source": [
    "# bce loss / score\n",
    "from sklearn.metrics import log_loss\n",
    "bce = log_loss(label, pred)\n",
    "print('BCE loss: ', bce)"
   ]
  },
  {
   "cell_type": "code",
   "execution_count": 22,
   "metadata": {},
   "outputs": [
    {
     "data": {
      "image/png": "[encoded data removed]",
      "text/plain": [
       "<Figure size 432x288 with 1 Axes>"
      ]
     },
     "metadata": {
      "needs_background": "light"
     },
     "output_type": "display_data"
    }
   ],
   "source": [
    "# plot ROC curve\n",
    "from sklearn.metrics import roc_curve, auc\n",
    "fpr, tpr, thresholds = roc_curve(label, pred)\n",
    "roc_auc = auc(fpr, tpr)\n",
    "plt.figure()\n",
    "lw = 2\n",
    "plt.plot(fpr, tpr, color='darkorange',\n",
    "            lw=lw, label='ROC curve (area = %0.2f)' % roc_auc)\n",
    "plt.plot([0, 1], [0, 1], color='navy', lw=lw, linestyle='--')\n",
    "plt.xlim([0.0, 1.0])\n",
    "plt.ylim([0.0, 1.05])\n",
    "plt.xlabel('False Positive Rate')\n",
    "plt.ylabel('True Positive Rate')\n",
    "plt.title('Receiver operating characteristic - MPNet')\n",
    "plt.legend(loc=\"lower right\")\n",
    "plt.savefig('ROC.jpeg')\n",
    "plt.show()"
   ]
  },
  {
   "cell_type": "code",
   "execution_count": 20,
   "metadata": {},
   "outputs": [
    {
     "name": "stdout",
     "output_type": "stream",
     "text": [
      "              precision    recall  f1-score   support\n",
      "\n",
      "         0.0       0.86      0.75      0.80      5999\n",
      "         1.0       0.60      0.76      0.67      3001\n",
      "\n",
      "    accuracy                           0.75      9000\n",
      "   macro avg       0.73      0.76      0.74      9000\n",
      "weighted avg       0.78      0.75      0.76      9000\n",
      "\n"
     ]
    }
   ],
   "source": [
    "# compute classification report\n",
    "from sklearn.metrics import classification_report\n",
    "print(classification_report(label, pred))"
   ]
  }
 ],
 "metadata": {
  "kernelspec": {
   "display_name": "Python 3.9.12 ('ML')",
   "language": "python",
   "name": "python3"
  },
  "language_info": {
   "codemirror_mode": {
    "name": "ipython",
    "version": 3
   },
   "file_extension": ".py",
   "mimetype": "text/x-python",
   "name": "python",
   "nbconvert_exporter": "python",
   "pygments_lexer": "ipython3",
   "version": "3.9.12"
  },
  "orig_nbformat": 4,
  "vscode": {
   "interpreter": {
    "hash": "5f29aed5d2efafefc03a5e7868c0eab4ff1c27995160278b3aa57af14cc1ae5e"
   }
  }
 },
 "nbformat": 4,
 "nbformat_minor": 2
}
